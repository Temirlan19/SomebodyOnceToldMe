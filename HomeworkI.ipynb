{
 "cells": [
  {
   "cell_type": "markdown",
   "id": "778b595b",
   "metadata": {},
   "source": [
    "Homework I:\n",
    "    You will need to work with sympy, numpy and matplotlib\n",
    "    \n",
    "    To get full points, attach to Moodle your figure, file and code => 3 documents"
   ]
  },
  {
   "cell_type": "markdown",
   "id": "ad8077dc",
   "metadata": {},
   "source": [
    "# Task I (70%)"
   ]
  },
  {
   "cell_type": "markdown",
   "id": "d728cc8e",
   "metadata": {},
   "source": [
    "1/ Work with a file input and NumPy arrays\n",
    "- Download the file hw1.txt on your current working folder and then open it\n",
    "- Read first 100 lines, save as a new variable x_val which should be a NumPy array \n",
    "- Close the file"
   ]
  },
  {
   "cell_type": "markdown",
   "id": "c0dfe177",
   "metadata": {},
   "source": [
    "2/ Use SymPy and NumPy together:\n",
    "    \n",
    "- Create the following expression \n",
    "\n",
    "$f \\ = \\ x^2 \\ + \\ 2x \\ + 1 \\quad (1) $  \n",
    "- Evaluate it for the x_val from point 1/ above\n",
    "- Save results as f_val "
   ]
  },
  {
   "cell_type": "markdown",
   "id": "71bf3aae",
   "metadata": {},
   "source": [
    "3/ Create a figure\n",
    "- plot results of previous evaluation for x_val and f_val\n",
    "- give a title to your figure as \"yourname's first figure!\"\n",
    "- give a label to the line and display the legend\n",
    "- add x and y labels\n",
    "- save figure as \"yourname.pdf\""
   ]
  },
  {
   "cell_type": "markdown",
   "id": "127ed368",
   "metadata": {},
   "source": [
    "4/ Attach your figure to the assignment"
   ]
  },
  {
   "cell_type": "markdown",
   "id": "ef0cf642",
   "metadata": {},
   "source": [
    "# Task II (30%)"
   ]
  },
  {
   "cell_type": "markdown",
   "id": "834b8467",
   "metadata": {},
   "source": [
    "1/ Use SymPy\n",
    "- solve equation (1) and store the solution as x_sol"
   ]
  },
  {
   "cell_type": "markdown",
   "id": "019869bf",
   "metadata": {},
   "source": [
    "2/ Find the following limit and store the result as limit_sol\n",
    "\n",
    "$\\lim_{x \\to 0} \\ = \\ \\frac{1 \\ - \\ \\cos(x^2)}{x^2\\,\\sin(x^2)} $\n"
   ]
  },
  {
   "cell_type": "markdown",
   "id": "d6ddf66b",
   "metadata": {},
   "source": [
    "3/ Find antiderivative of the following and store the result as int_sol:\n",
    "\n",
    "$\\int \\ \\frac{d \\, x}{x \\, (1 \\ + \\ x)\\, (1 \\ + \\ x\\ + \\ x^2)}$"
   ]
  },
  {
   "cell_type": "markdown",
   "id": "5458fd69",
   "metadata": {},
   "source": [
    "4/ Open a file with your name (yourname.txt) in a \"write\" mode \n",
    "- save x_sol, limit_sol and int_sol\n",
    "- close file"
   ]
  },
  {
   "cell_type": "markdown",
   "id": "2841a994",
   "metadata": {},
   "source": [
    "5/ Attach your file to the assignment"
   ]
  }
 ],
 "metadata": {
  "kernelspec": {
   "display_name": "Python 3 (ipykernel)",
   "language": "python",
   "name": "python3"
  },
  "language_info": {
   "codemirror_mode": {
    "name": "ipython",
    "version": 3
   },
   "file_extension": ".py",
   "mimetype": "text/x-python",
   "name": "python",
   "nbconvert_exporter": "python",
   "pygments_lexer": "ipython3",
   "version": "3.9.7"
  }
 },
 "nbformat": 4,
 "nbformat_minor": 5
}
