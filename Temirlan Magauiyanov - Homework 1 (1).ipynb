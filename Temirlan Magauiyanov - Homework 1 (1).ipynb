{
 "cells": [
  {
   "cell_type": "markdown",
   "id": "778b595b",
   "metadata": {},
   "source": [
    "Homework I:\n",
    "    You will need to work with sympy, numpy and matplotlib\n",
    "    \n",
    "    To get full points, attach to Moodle your figure, file and code => 3 documents"
   ]
  },
  {
   "cell_type": "markdown",
   "id": "ad8077dc",
   "metadata": {},
   "source": [
    "# Task I (70%)"
   ]
  },
  {
   "cell_type": "markdown",
   "id": "d728cc8e",
   "metadata": {},
   "source": [
    "1/ Work with a file input and NumPy arrays\n",
    "- Download the file hw1.txt on your current working folder and then open it\n",
    "- Read first 100 lines, save as a new variable x_val which should be a NumPy array \n",
    "- Close the filу"
   ]
  },
  {
   "cell_type": "code",
   "execution_count": 5,
   "id": "c41452be",
   "metadata": {},
   "outputs": [],
   "source": [
    "import numpy as np\n",
    "file=open ('hw1.txt')\n",
    "x_val=np.array([])\n",
    "for i in range(100):\n",
    "    line=file.readline()\n",
    "    x_val=np.append(x_val,line)\n",
    "file.close()"
   ]
  },
  {
   "cell_type": "code",
   "execution_count": 6,
   "id": "1f5be95d",
   "metadata": {},
   "outputs": [
    {
     "data": {
      "text/plain": [
       "array(['0.000000000000000000e+00\\n', '1.001001001001000992e-02\\n',\n",
       "       '2.002002002002001985e-02\\n', '3.003003003003002977e-02\\n',\n",
       "       '4.004004004004003969e-02\\n', '5.005005005005004615e-02\\n',\n",
       "       '6.006006006006005954e-02\\n', '7.007007007007007293e-02\\n',\n",
       "       '8.008008008008007939e-02\\n', '9.009009009009008584e-02\\n',\n",
       "       '1.001001001001000923e-01\\n', '1.101101101101101126e-01\\n',\n",
       "       '1.201201201201201191e-01\\n', '1.301301301301301394e-01\\n',\n",
       "       '1.401401401401401459e-01\\n', '1.501501501501501523e-01\\n',\n",
       "       '1.601601601601601588e-01\\n', '1.701701701701701652e-01\\n',\n",
       "       '1.801801801801801717e-01\\n', '1.901901901901901781e-01\\n',\n",
       "       '2.002002002002001846e-01\\n', '2.102102102102102188e-01\\n',\n",
       "       '2.202202202202202252e-01\\n', '2.302302302302302317e-01\\n',\n",
       "       '2.402402402402402382e-01\\n', '2.502502502502502724e-01\\n',\n",
       "       '2.602602602602602788e-01\\n', '2.702702702702702853e-01\\n',\n",
       "       '2.802802802802802917e-01\\n', '2.902902902902902982e-01\\n',\n",
       "       '3.003003003003003046e-01\\n', '3.103103103103103111e-01\\n',\n",
       "       '3.203203203203203175e-01\\n', '3.303303303303303240e-01\\n',\n",
       "       '3.403403403403403304e-01\\n', '3.503503503503503369e-01\\n',\n",
       "       '3.603603603603603434e-01\\n', '3.703703703703703498e-01\\n',\n",
       "       '3.803803803803803563e-01\\n', '3.903903903903903627e-01\\n',\n",
       "       '4.004004004004003692e-01\\n', '4.104104104104104311e-01\\n',\n",
       "       '4.204204204204204376e-01\\n', '4.304304304304304440e-01\\n',\n",
       "       '4.404404404404404505e-01\\n', '4.504504504504504570e-01\\n',\n",
       "       '4.604604604604604634e-01\\n', '4.704704704704704699e-01\\n',\n",
       "       '4.804804804804804763e-01\\n', '4.904904904904904828e-01\\n',\n",
       "       '5.005005005005005447e-01\\n', '5.105105105105105512e-01\\n',\n",
       "       '5.205205205205205576e-01\\n', '5.305305305305305641e-01\\n',\n",
       "       '5.405405405405405705e-01\\n', '5.505505505505505770e-01\\n',\n",
       "       '5.605605605605605835e-01\\n', '5.705705705705705899e-01\\n',\n",
       "       '5.805805805805805964e-01\\n', '5.905905905905906028e-01\\n',\n",
       "       '6.006006006006006093e-01\\n', '6.106106106106106157e-01\\n',\n",
       "       '6.206206206206206222e-01\\n', '6.306306306306306286e-01\\n',\n",
       "       '6.406406406406406351e-01\\n', '6.506506506506506415e-01\\n',\n",
       "       '6.606606606606606480e-01\\n', '6.706706706706706544e-01\\n',\n",
       "       '6.806806806806806609e-01\\n', '6.906906906906906674e-01\\n',\n",
       "       '7.007007007007006738e-01\\n', '7.107107107107106803e-01\\n',\n",
       "       '7.207207207207206867e-01\\n', '7.307307307307306932e-01\\n',\n",
       "       '7.407407407407406996e-01\\n', '7.507507507507507061e-01\\n',\n",
       "       '7.607607607607607125e-01\\n', '7.707707707707707190e-01\\n',\n",
       "       '7.807807807807807254e-01\\n', '7.907907907907907319e-01\\n',\n",
       "       '8.008008008008007383e-01\\n', '8.108108108108108558e-01\\n',\n",
       "       '8.208208208208208623e-01\\n', '8.308308308308308687e-01\\n',\n",
       "       '8.408408408408408752e-01\\n', '8.508508508508508816e-01\\n',\n",
       "       '8.608608608608608881e-01\\n', '8.708708708708708945e-01\\n',\n",
       "       '8.808808808808809010e-01\\n', '8.908908908908909074e-01\\n',\n",
       "       '9.009009009009009139e-01\\n', '9.109109109109109204e-01\\n',\n",
       "       '9.209209209209209268e-01\\n', '9.309309309309309333e-01\\n',\n",
       "       '9.409409409409409397e-01\\n', '9.509509509509509462e-01\\n',\n",
       "       '9.609609609609609526e-01\\n', '9.709709709709709591e-01\\n',\n",
       "       '9.809809809809809655e-01\\n', '9.909909909909909720e-01\\n'],\n",
       "      dtype='<U32')"
      ]
     },
     "execution_count": 6,
     "metadata": {},
     "output_type": "execute_result"
    }
   ],
   "source": [
    "x_val\n"
   ]
  },
  {
   "cell_type": "markdown",
   "id": "c0dfe177",
   "metadata": {},
   "source": [
    "2/ Use SymPy and NumPy together:\n",
    "    \n",
    "- Create the following expression \n",
    "\n",
    "$f \\ = \\ x^2 \\ + \\ 2x \\ + 1 \\quad (1) $  \n",
    "- Evaluate it for the x_val from point 1/ above\n",
    "- Save results as f_val "
   ]
  },
  {
   "cell_type": "code",
   "execution_count": 6,
   "id": "41a99c7f",
   "metadata": {},
   "outputs": [],
   "source": [
    "from sympy import *\n",
    "import sympy as sp\n",
    "x=sp.symbols('x')\n",
    "f=x**2+2*x+1\n",
    "f_val=np.array([f.subs(x,xx) for xx in x_val])\n"
   ]
  },
  {
   "cell_type": "markdown",
   "id": "71bf3aae",
   "metadata": {},
   "source": [
    "3/ Create a figure\n",
    "- plot results of previous evaluation for x_val and f_val\n",
    "- give a title to your figure as \"yourname's first figure!\"\n",
    "- give a label to the line and display the legend\n",
    "- add x and y labels\n",
    "- save figure as \"yourname.pdf\""
   ]
  },
  {
   "cell_type": "code",
   "execution_count": 7,
   "id": "81a91262",
   "metadata": {},
   "outputs": [
    {
     "data": {
      "text/plain": [
       "<matplotlib.legend.Legend at 0x14b69f620a0>"
      ]
     },
     "execution_count": 7,
     "metadata": {},
     "output_type": "execute_result"
    },
    {
     "data": {
      "image/png": "[encoded data removed]",
      "text/plain": [
       "<Figure size 432x288 with 1 Axes>"
      ]
     },
     "metadata": {
      "needs_background": "light"
     },
     "output_type": "display_data"
    }
   ],
   "source": [
    "import matplotlib.pyplot as plt\n",
    "fig, ax=plt.subplots()\n",
    "ax.plot(x_val, f_val)\n",
    "plt.title(\"Temirlan's first figure\")\n",
    "plt.xlabel(\"X axis label\")\n",
    "plt.ylabel(\"Y axis label\") \n",
    "plt.plot(x_val,f_val, label=\"x_val+f_val\")\n",
    "plt.legend()\n",
    "\n"
   ]
  },
  {
   "cell_type": "markdown",
   "id": "127ed368",
   "metadata": {},
   "source": [
    "4/ Attach your figure to the assignment"
   ]
  },
  {
   "cell_type": "markdown",
   "id": "ef0cf642",
   "metadata": {},
   "source": [
    "# Task II (30%)"
   ]
  },
  {
   "cell_type": "markdown",
   "id": "834b8467",
   "metadata": {},
   "source": [
    "1/ Use SymPy\n",
    "- solve equation (1) and store the solution as x_sol"
   ]
  },
  {
   "cell_type": "code",
   "execution_count": 8,
   "id": "99299340",
   "metadata": {},
   "outputs": [
    {
     "data": {
      "text/plain": [
       "[-1]"
      ]
     },
     "execution_count": 8,
     "metadata": {},
     "output_type": "execute_result"
    }
   ],
   "source": [
    "from sympy import *\n",
    "x_sol= solve(f, x) \n",
    "x_sol"
   ]
  },
  {
   "cell_type": "markdown",
   "id": "019869bf",
   "metadata": {},
   "source": [
    "2/ Find the following limit and store the result as limit_sol\n",
    "\n",
    "$\\lim_{x \\to 0} \\ = \\ \\frac{1 \\ - \\ \\cos(x^2)}{x^2\\,\\sin(x^2)} $\n"
   ]
  },
  {
   "cell_type": "code",
   "execution_count": 9,
   "id": "abcd65cb",
   "metadata": {},
   "outputs": [
    {
     "data": {
      "text/latex": [
       "$\\displaystyle \\frac{1}{2}$"
      ],
      "text/plain": [
       "1/2"
      ]
     },
     "execution_count": 9,
     "metadata": {},
     "output_type": "execute_result"
    }
   ],
   "source": [
    "lim_sol=limit((1-cos(x**2))/(x**2*sin(x**2)), x, 0)\n",
    "lim_sol"
   ]
  },
  {
   "cell_type": "markdown",
   "id": "d6ddf66b",
   "metadata": {},
   "source": [
    "3/ Find antiderivative of the following and store the result as int_sol:\n",
    "\n",
    "$\\int \\ \\frac{d \\, x}{x \\, (1 \\ + \\ x)\\, (1 \\ + \\ x\\ + \\ x^2)}$"
   ]
  },
  {
   "cell_type": "code",
   "execution_count": 10,
   "id": "f434badf",
   "metadata": {},
   "outputs": [
    {
     "data": {
      "text/latex": [
       "$\\displaystyle \\log{\\left(x \\right)} - \\log{\\left(x + 1 \\right)} - \\frac{2 \\sqrt{3} \\operatorname{atan}{\\left(\\frac{2 \\sqrt{3} x}{3} + \\frac{\\sqrt{3}}{3} \\right)}}{3}$"
      ],
      "text/plain": [
       "log(x) - log(x + 1) - 2*sqrt(3)*atan(2*sqrt(3)*x/3 + sqrt(3)/3)/3"
      ]
     },
     "execution_count": 10,
     "metadata": {},
     "output_type": "execute_result"
    }
   ],
   "source": [
    "int_sol=integrate(1/(x*(1+x)*(1+x+x**2)),x)\n",
    "int_sol"
   ]
  },
  {
   "cell_type": "markdown",
   "id": "5458fd69",
   "metadata": {},
   "source": [
    "4/ Open a file with your name (yourname.txt) in a \"write\" mode \n",
    "- save x_sol, limit_sol and int_sol\n",
    "- close file"
   ]
  },
  {
   "cell_type": "code",
   "execution_count": 11,
   "id": "784894cf",
   "metadata": {},
   "outputs": [],
   "source": [
    "file=open('Temirlan.txt', 'w')\n",
    "eq=['x_sol='+str(x_sol)+'\\n', 'lim_sol='+str(lim_sol)+'\\n', 'int_sol='+str(int_sol)]\n",
    "for i in eq:\n",
    "    file.write(i)\n",
    "    \n",
    "file.close()"
   ]
  },
  {
   "cell_type": "code",
   "execution_count": 12,
   "id": "18ac42bd",
   "metadata": {},
   "outputs": [
    {
     "data": {
      "text/plain": [
       "'x_sol=[-1]\\nlim_sol=1/2\\nint_sol=log(x) - log(x + 1) - 2*sqrt(3)*atan(2*sqrt(3)*x/3 + sqrt(3)/3)/3'"
      ]
     },
     "execution_count": 12,
     "metadata": {},
     "output_type": "execute_result"
    }
   ],
   "source": [
    "file=open('Temirlan.txt')\n",
    "file.read()\n"
   ]
  },
  {
   "cell_type": "markdown",
   "id": "2841a994",
   "metadata": {},
   "source": [
    "5/ Attach your file to the assignment"
   ]
  },
  {
   "cell_type": "code",
   "execution_count": null,
   "id": "f905a91b",
   "metadata": {},
   "outputs": [],
   "source": []
  },
  {
   "cell_type": "code",
   "execution_count": null,
   "id": "9d8dd04c",
   "metadata": {},
   "outputs": [],
   "source": []
  }
 ],
 "metadata": {
  "kernelspec": {
   "display_name": "Python 3",
   "language": "python",
   "name": "python3"
  },
  "language_info": {
   "codemirror_mode": {
    "name": "ipython",
    "version": 3
   },
   "file_extension": ".py",
   "mimetype": "text/x-python",
   "name": "python",
   "nbconvert_exporter": "python",
   "pygments_lexer": "ipython3",
   "version": "3.8.8"
  }
 },
 "nbformat": 4,
 "nbformat_minor": 5
}
